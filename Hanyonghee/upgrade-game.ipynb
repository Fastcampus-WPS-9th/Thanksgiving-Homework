{
 "cells": [
  {
   "cell_type": "code",
   "execution_count": 9,
   "metadata": {},
   "outputs": [],
   "source": [
    "from functions import *\n",
    "import random\n",
    "\n",
    "def turn_on():\n",
    "    print('= Turn on game =')\n",
    "    name = input('\\n유저 이름을 입력해주세요\\n입력: ')\n",
    "    user1 = User(name)\n",
    "    sword = Sword()\n",
    "    while True:\n",
    "        print(f'{user1}님 반갑습니다!!\\n'\n",
    "              '지금부터 검 강화게임을 시작하도록 하겠습니다'\n",
    "              )\n",
    "        choice = input(\n",
    "            '번호를 입력해주세요\\n'\n",
    "            ' 1: 검 강화하기\\n'\n",
    "            ' 0: 게임 나가기\\n'\n",
    "            'Input: '\n",
    "        )\n",
    "        if choice == '1':\n",
    "            print('명검 다마스커스검을 강화시작 하겠습니다!')\n",
    "            sword.upgrade()\n",
    "            game_continue = 'y'\n",
    "            while True:\n",
    "                game_continue = input('계속 강화하시겠습니까(y/n) : ')\n",
    "                if game_continue == 'y':\n",
    "                    sword.upgrade()\n",
    "                elif game_continue != 'y':\n",
    "                    print('잘못 입력하셨습니다.\\n''다시 입력해주세요!')\n",
    "                    continue\n",
    "                elif game_continue == 'n':\n",
    "                    break\n",
    "                \n",
    "        elif choice == '0':\n",
    "            break\n",
    "        else:\n",
    "            print('선택지 항목에서 벗어났습니다\\n'\n",
    "                  '다시 선택해주세요')\n",
    "        print('--------------------------')\n",
    "    print('= 게임 종료 =')\n",
    "\n",
    "# if __name__ == '__main__':\n",
    "#     turn_on()\n",
    "    \n",
    "class User:  \n",
    "    def __init__(self, name):\n",
    "        self.name = name\n",
    "        self.sword = 0\n",
    "        self.deffense = 0\n",
    "    \n",
    "    def __repr__(self):\n",
    "        return self.name\n",
    "        \n",
    "class Sword:\n",
    "    def __init__(self):\n",
    "        self.strength = 0\n",
    "        self.atk = 100\n",
    "        self.score = ''\n",
    "    \n",
    "    def __repr__(self):\n",
    "        return f' {self.strength}, {self.atk}'\n",
    "    \n",
    "    def upgrade(self):\n",
    "        success = ['성공', '실패']\n",
    "        result = random.choice(success)\n",
    "        print(result)\n",
    "        while self.strength < 10:\n",
    "            if result == '성공':\n",
    "                print(f'{result} 했습니다.')\n",
    "                self.strength += 1\n",
    "                self.atk += 100\n",
    "                print(f'현재 {self.strength}강이며, 현재 공격력은 {self.atk}입니다.')\n",
    "                break\n",
    "            else:\n",
    "                print(f'{result} 했습니다.')\n",
    "                print(f'현재 {self.strength}강이며, 현재 공격력은 {self.atk}입니다.')\n",
    "                break\n",
    "        else:\n",
    "                print('10이상 강화할 수 없습니다')"
   ]
  },
  {
   "cell_type": "code",
   "execution_count": 2,
   "metadata": {},
   "outputs": [],
   "source": [
    "hyh = User('한용희')"
   ]
  },
  {
   "cell_type": "code",
   "execution_count": 3,
   "metadata": {},
   "outputs": [
    {
     "data": {
      "text/plain": [
       "한용희"
      ]
     },
     "execution_count": 3,
     "metadata": {},
     "output_type": "execute_result"
    }
   ],
   "source": [
    "hyh"
   ]
  },
  {
   "cell_type": "code",
   "execution_count": 4,
   "metadata": {},
   "outputs": [
    {
     "data": {
      "text/plain": [
       " 0, 100"
      ]
     },
     "execution_count": 4,
     "metadata": {},
     "output_type": "execute_result"
    }
   ],
   "source": [
    "sword1 = Sword()\n",
    "sword1"
   ]
  },
  {
   "cell_type": "code",
   "execution_count": 5,
   "metadata": {
    "scrolled": true
   },
   "outputs": [
    {
     "name": "stdout",
     "output_type": "stream",
     "text": [
      "실패\n",
      "실패 했습니다.\n",
      "현재 0강이며, 현재 공격력은 100입니다.\n"
     ]
    }
   ],
   "source": [
    "sword1.upgrade()"
   ]
  },
  {
   "cell_type": "code",
   "execution_count": 6,
   "metadata": {},
   "outputs": [],
   "source": [
    "import random"
   ]
  },
  {
   "cell_type": "code",
   "execution_count": 7,
   "metadata": {},
   "outputs": [
    {
     "name": "stdout",
     "output_type": "stream",
     "text": [
      "앞입니다. 100원을 가져가세요\n"
     ]
    }
   ],
   "source": [
    "coin = ['앞', '뒤']\n",
    "res = random.choice(coin)\n",
    "if res == '앞':\n",
    "    print(f'{res}입니다. 100원을 가져가세요')\n",
    "else:\n",
    "    print(f'{res}입니다. 100원을 뺏겼습니다.')"
   ]
  },
  {
   "cell_type": "code",
   "execution_count": 8,
   "metadata": {},
   "outputs": [
    {
     "name": "stdout",
     "output_type": "stream",
     "text": [
      "31\n"
     ]
    }
   ],
   "source": [
    "num = random.randrange(1, 101)\n",
    "print(num)"
   ]
  },
  {
   "cell_type": "code",
   "execution_count": null,
   "metadata": {},
   "outputs": [],
   "source": []
  },
  {
   "cell_type": "code",
   "execution_count": null,
   "metadata": {},
   "outputs": [],
   "source": []
  }
 ],
 "metadata": {
  "kernelspec": {
   "display_name": "Python 3",
   "language": "python",
   "name": "python3"
  },
  "language_info": {
   "codemirror_mode": {
    "name": "ipython",
    "version": 3
   },
   "file_extension": ".py",
   "mimetype": "text/x-python",
   "name": "python",
   "nbconvert_exporter": "python",
   "pygments_lexer": "ipython3",
   "version": "3.6.6"
  }
 },
 "nbformat": 4,
 "nbformat_minor": 2
}
