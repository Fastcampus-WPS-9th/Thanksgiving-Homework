{
 "cells": [
  {
   "cell_type": "code",
   "execution_count": 42,
   "metadata": {},
   "outputs": [],
   "source": [
    "class User:\n",
    "    user_list= []\n",
    "\n",
    "    def __init__(self,name):\n",
    "        self.name=name\n",
    "        self.life=10\n",
    "        self.score=0\n",
    "        self.user_list.append(self)\n",
    "        self.result=0\n",
    "        \n",
    "    def __repr__(self):\n",
    "          return f'repr {self.name},{self.life},{self.score}'\n",
    "    \n",
    "    def __str__(self):\n",
    "        print (f'str{self.name},{self.life},{self.score}')\n",
    "    \n",
    "#     def user_info(self):\n",
    "#          print('순위 \\n{user_list}\\n'.format(\n",
    "#             user_list='  \\n'.join(['{name} {score} {life}'.format(\n",
    "#                 name=user.name,\n",
    "#                 score=user.score,\n",
    "#                 life=user.life\n",
    "#             ) for user in enumerate(user_list)])\n",
    "#         ))\n",
    "#     @property\n",
    "#     def info(self):\n",
    "#         for i in range(len(self.user_list)):\n",
    "#             print (f'{i.name} , {i.life} , {i.score}\\n')"
   ]
  },
  {
   "cell_type": "code",
   "execution_count": 43,
   "metadata": {},
   "outputs": [],
   "source": [
    "import random\n",
    "\n",
    "def game_page():\n",
    " \n",
    "    while True:\n",
    "\n",
    "        print('사용자의 이름을 입력해주세요.초기 생명력은 10 게임을 나가거나 생명을 다 쓰면 게임은 끝납니다.')\n",
    "        \n",
    "        name = input()\n",
    "        user=User(name)\n",
    "            \n",
    "        \n",
    "        while True:\n",
    "            \n",
    "            number = random.randint(1,10)\n",
    "            print(f'{user.name}님 1부터 10안의 숫자를 고르세요')\n",
    "\n",
    "            while True:\n",
    "                guess = input( )\n",
    "\n",
    "                if int(guess)>10 or int(guess)<0:\n",
    "                    print('숫자를 다시 입력하세요\\n')\n",
    "                    continue\n",
    "\n",
    "                if number>int(guess):\n",
    "                    user.life-=1\n",
    "                    print('숫자를 올려보세요')\n",
    "                    print(f'{user.name}의 현재 생명은 {user.life}입니다.\\n')\n",
    "                    continue\n",
    "\n",
    "                if number<int(guess):\n",
    "                    user.life-=1\n",
    "                    print('숫자를 내려보세요')\n",
    "                    print(f'{user.name}님의 현재 생명은 {user.life}입니다.\\n')\n",
    "                    continue\n",
    "\n",
    "                if number==int(guess):\n",
    "                    print('정답입니다. 점수를 획득하셨습니다.\\n')\n",
    "                    user.score+=1\n",
    "                    user.result=user.life+user.score\n",
    "                    print(f'{user.name}님의 점수는 {user.score}점 이며 남은 생명은 {user.life}입니다. 총점은 {user.result}입니다.\\n')\n",
    "\n",
    "                    break\n",
    "\n",
    "\n",
    "            print('게임이 진행되길 원하면 엔터 종료를 원하면 종료를 입력해주세요\\n')\n",
    "            user_select=input()\n",
    "            if user_select == '종료':\n",
    "                break\n",
    "\n",
    "            else:\n",
    "                continue\n",
    "        print('완전한 종료를 원하면 종료를 한번 더 입력해주세요 엔터를 누르면 새로운 사용자로 게임이 시작됩니다.')\n",
    "        final_select=input()\n",
    "        if final_select=='종료':\n",
    "            break\n",
    "        else:\n",
    "            continue\n"
   ]
  },
  {
   "cell_type": "code",
   "execution_count": 44,
   "metadata": {},
   "outputs": [
    {
     "name": "stdout",
     "output_type": "stream",
     "text": [
      "=============\n",
      "원하는 진행의 숫자를 눌러주세요!! \n",
      "1.게임하기\n",
      "2.순위보기\n",
      "3.종료하기\n",
      "===================\n",
      "\n",
      "1\n",
      "사용자의 이름을 입력해주세요.초기 생명력은 10 게임을 나가거나 생명을 다 쓰면 게임은 끝납니다.\n",
      "ㅈ1\n",
      "ㅈ1님 1부터 10안의 숫자를 고르세요\n",
      "5\n",
      "숫자를 올려보세요\n",
      "ㅈ1의 현재 생명은 9입니다.\n",
      "\n",
      "8\n",
      "숫자를 내려보세요\n",
      "ㅈ1님의 현재 생명은 8입니다.\n",
      "\n",
      "7\n",
      "정답입니다. 점수를 획득하셨습니다.\n",
      "\n",
      "ㅈ1님의 점수는 1점 이며 남은 생명은 8입니다. 총점은 9입니다.\n",
      "\n",
      "게임이 진행되길 원하면 엔터 종료를 원하면 종료를 입력해주세요\n",
      "\n",
      "\n",
      "ㅈ1님 1부터 10안의 숫자를 고르세요\n",
      "5\n",
      "숫자를 내려보세요\n",
      "ㅈ1님의 현재 생명은 7입니다.\n",
      "\n",
      "3\n",
      "숫자를 내려보세요\n",
      "ㅈ1님의 현재 생명은 6입니다.\n",
      "\n",
      "2\n",
      "숫자를 내려보세요\n",
      "ㅈ1님의 현재 생명은 5입니다.\n",
      "\n",
      "1\n",
      "정답입니다. 점수를 획득하셨습니다.\n",
      "\n",
      "ㅈ1님의 점수는 2점 이며 남은 생명은 5입니다. 총점은 7입니다.\n",
      "\n",
      "게임이 진행되길 원하면 엔터 종료를 원하면 종료를 입력해주세요\n",
      "\n",
      "\n",
      "ㅈ1님 1부터 10안의 숫자를 고르세요\n",
      "5\n",
      "숫자를 올려보세요\n",
      "ㅈ1의 현재 생명은 4입니다.\n",
      "\n",
      "7\n",
      "정답입니다. 점수를 획득하셨습니다.\n",
      "\n",
      "ㅈ1님의 점수는 3점 이며 남은 생명은 4입니다. 총점은 7입니다.\n",
      "\n",
      "게임이 진행되길 원하면 엔터 종료를 원하면 종료를 입력해주세요\n",
      "\n",
      "종료\n",
      "완전한 종료를 원하면 종료를 한번 더 입력해주세요 엔터를 누르면 새로운 사용자로 게임이 시작됩니다.\n",
      "\n",
      "사용자의 이름을 입력해주세요.초기 생명력은 10 게임을 나가거나 생명을 다 쓰면 게임은 끝납니다.\n",
      "ㅈ2\n",
      "ㅈ2님 1부터 10안의 숫자를 고르세요\n",
      "5\n",
      "숫자를 내려보세요\n",
      "ㅈ2님의 현재 생명은 9입니다.\n",
      "\n",
      "2\n",
      "숫자를 올려보세요\n",
      "ㅈ2의 현재 생명은 8입니다.\n",
      "\n",
      "3\n",
      "정답입니다. 점수를 획득하셨습니다.\n",
      "\n",
      "ㅈ2님의 점수는 1점 이며 남은 생명은 8입니다. 총점은 9입니다.\n",
      "\n",
      "게임이 진행되길 원하면 엔터 종료를 원하면 종료를 입력해주세요\n",
      "\n",
      "종료\n",
      "완전한 종료를 원하면 종료를 한번 더 입력해주세요 엔터를 누르면 새로운 사용자로 게임이 시작됩니다.\n",
      "ㅈ3\n",
      "사용자의 이름을 입력해주세요.초기 생명력은 10 게임을 나가거나 생명을 다 쓰면 게임은 끝납니다.\n",
      "ㅈ3\n",
      "ㅈ3님 1부터 10안의 숫자를 고르세요\n",
      "5\n",
      "숫자를 내려보세요\n",
      "ㅈ3님의 현재 생명은 9입니다.\n",
      "\n",
      "3\n",
      "숫자를 내려보세요\n",
      "ㅈ3님의 현재 생명은 8입니다.\n",
      "\n",
      "2\n",
      "정답입니다. 점수를 획득하셨습니다.\n",
      "\n",
      "ㅈ3님의 점수는 1점 이며 남은 생명은 8입니다. 총점은 9입니다.\n",
      "\n",
      "게임이 진행되길 원하면 엔터 종료를 원하면 종료를 입력해주세요\n",
      "\n",
      "종료\n",
      "완전한 종료를 원하면 종료를 한번 더 입력해주세요 엔터를 누르면 새로운 사용자로 게임이 시작됩니다.\n",
      "종료\n",
      "=============\n",
      "원하는 진행의 숫자를 눌러주세요!! \n",
      "1.게임하기\n",
      "2.순위보기\n",
      "3.종료하기\n",
      "===================\n",
      "\n",
      "3\n",
      "추석연휴 수고하셨습니다. :D\n"
     ]
    }
   ],
   "source": [
    "\n",
    "def mainpage():\n",
    "    \n",
    "    while True:\n",
    "        \n",
    "        print('=============\\n원하는 진행의 숫자를 눌러주세요!! \\n1.게임하기\\n2.순위보기\\n3.종료하기\\n===================\\n')\n",
    "        choose=input()\n",
    "        \n",
    "        if int(choose)==1:\n",
    "            game_page()\n",
    "            continue\n",
    "    #     if int(choose)==2:\n",
    "    #         rank_page()\n",
    "\n",
    "        if int(choose)==3:\n",
    "\n",
    "            print('추석연휴 수고하셨습니다. :D')\n",
    "            break\n",
    "\n",
    "if __name__ == \"__main__\":\n",
    "    mainpage()"
   ]
  },
  {
   "cell_type": "code",
   "execution_count": 45,
   "metadata": {},
   "outputs": [
    {
     "data": {
      "text/plain": [
       "[repr ㅈ1,4,3, repr ㅈ2,8,1, repr ㅈ3,8,1]"
      ]
     },
     "execution_count": 45,
     "metadata": {},
     "output_type": "execute_result"
    }
   ],
   "source": [
    "User.user_list"
   ]
  },
  {
   "cell_type": "code",
   "execution_count": 46,
   "metadata": {},
   "outputs": [
    {
     "data": {
      "text/plain": [
       "'ㅈ1'"
      ]
     },
     "execution_count": 46,
     "metadata": {},
     "output_type": "execute_result"
    }
   ],
   "source": [
    "User.user_list[0].name"
   ]
  },
  {
   "cell_type": "code",
   "execution_count": 65,
   "metadata": {},
   "outputs": [
    {
     "data": {
      "text/plain": [
       "9"
      ]
     },
     "execution_count": 65,
     "metadata": {},
     "output_type": "execute_result"
    }
   ],
   "source": [
    "User.user_list[1].result"
   ]
  },
  {
   "cell_type": "code",
   "execution_count": 66,
   "metadata": {},
   "outputs": [
    {
     "ename": "TypeError",
     "evalue": "'User' object does not support indexing",
     "output_type": "error",
     "traceback": [
      "\u001b[0;31m---------------------------------------------------------------------------\u001b[0m",
      "\u001b[0;31mTypeError\u001b[0m                                 Traceback (most recent call last)",
      "\u001b[0;32m<ipython-input-66-9841df3aba40>\u001b[0m in \u001b[0;36m<module>\u001b[0;34m()\u001b[0m\n\u001b[0;32m----> 1\u001b[0;31m \u001b[0msorted_rank\u001b[0m\u001b[0;34m=\u001b[0m\u001b[0msorted\u001b[0m\u001b[0;34m(\u001b[0m\u001b[0mUser\u001b[0m\u001b[0;34m.\u001b[0m\u001b[0muser_list\u001b[0m\u001b[0;34m,\u001b[0m\u001b[0mkey\u001b[0m\u001b[0;34m=\u001b[0m\u001b[0;32mlambda\u001b[0m \u001b[0mx\u001b[0m\u001b[0;34m:\u001b[0m\u001b[0mx\u001b[0m\u001b[0;34m[\u001b[0m\u001b[0mUser\u001b[0m\u001b[0;34m.\u001b[0m\u001b[0muser_list\u001b[0m\u001b[0;34m[\u001b[0m\u001b[0mi\u001b[0m\u001b[0;34m]\u001b[0m\u001b[0;34m.\u001b[0m\u001b[0mresult\u001b[0m\u001b[0;34m]\u001b[0m\u001b[0;34m,\u001b[0m\u001b[0mreverse\u001b[0m\u001b[0;34m=\u001b[0m\u001b[0;32mTrue\u001b[0m\u001b[0;34m)\u001b[0m\u001b[0;34m\u001b[0m\u001b[0m\n\u001b[0m",
      "\u001b[0;32m<ipython-input-66-9841df3aba40>\u001b[0m in \u001b[0;36m<lambda>\u001b[0;34m(x)\u001b[0m\n\u001b[0;32m----> 1\u001b[0;31m \u001b[0msorted_rank\u001b[0m\u001b[0;34m=\u001b[0m\u001b[0msorted\u001b[0m\u001b[0;34m(\u001b[0m\u001b[0mUser\u001b[0m\u001b[0;34m.\u001b[0m\u001b[0muser_list\u001b[0m\u001b[0;34m,\u001b[0m\u001b[0mkey\u001b[0m\u001b[0;34m=\u001b[0m\u001b[0;32mlambda\u001b[0m \u001b[0mx\u001b[0m\u001b[0;34m:\u001b[0m\u001b[0mx\u001b[0m\u001b[0;34m[\u001b[0m\u001b[0mUser\u001b[0m\u001b[0;34m.\u001b[0m\u001b[0muser_list\u001b[0m\u001b[0;34m[\u001b[0m\u001b[0mi\u001b[0m\u001b[0;34m]\u001b[0m\u001b[0;34m.\u001b[0m\u001b[0mresult\u001b[0m\u001b[0;34m]\u001b[0m\u001b[0;34m,\u001b[0m\u001b[0mreverse\u001b[0m\u001b[0;34m=\u001b[0m\u001b[0;32mTrue\u001b[0m\u001b[0;34m)\u001b[0m\u001b[0;34m\u001b[0m\u001b[0m\n\u001b[0m",
      "\u001b[0;31mTypeError\u001b[0m: 'User' object does not support indexing"
     ]
    }
   ],
   "source": [
    "sorted_rank=sorted(User.user_list,key=lambda x:x[User.user_list[i].result],reverse=True)"
   ]
  },
  {
   "cell_type": "code",
   "execution_count": 54,
   "metadata": {},
   "outputs": [
    {
     "name": "stdout",
     "output_type": "stream",
     "text": [
      "[{'ㅈ1'}, {4}, {3}, {7}]\n",
      "[{'ㅈ2'}, {8}, {1}, {9}]\n",
      "[{'ㅈ3'}, {8}, {1}, {9}]\n"
     ]
    }
   ],
   "source": [
    "count=1\n",
    "for i in range(len(User.user_list)):\n",
    "    User.user_list[i].result=count\n",
    "    count+=1\n",
    "    \n",
    "for i in range(len(User.user_list)):\n",
    "    print([{User.user_list[i].name},{User.user_list[i].life},{User.user_list[i].score},{User.user_list[i].result}])"
   ]
  }
 ],
 "metadata": {
  "kernelspec": {
   "display_name": "Python 3",
   "language": "python",
   "name": "python3"
  },
  "language_info": {
   "codemirror_mode": {
    "name": "ipython",
    "version": 3
   },
   "file_extension": ".py",
   "mimetype": "text/x-python",
   "name": "python",
   "nbconvert_exporter": "python",
   "pygments_lexer": "ipython3",
   "version": "3.6.6"
  }
 },
 "nbformat": 4,
 "nbformat_minor": 2
}
