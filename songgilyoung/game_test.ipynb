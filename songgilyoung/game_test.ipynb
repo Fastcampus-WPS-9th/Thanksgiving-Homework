{
 "cells": [
  {
   "cell_type": "code",
   "execution_count": null,
   "metadata": {},
   "outputs": [],
   "source": [
    "import random"
   ]
  },
  {
   "cell_type": "code",
   "execution_count": null,
   "metadata": {},
   "outputs": [],
   "source": [
    "# 출력을 위한 print decorator\n",
    "def printOverlap(fprint):\n",
    "    def wrapper(*args, **kwargs):\n",
    "        print(\"\\n==-==-==-==-==-==\\n\")\n",
    "        fprint(*args, **kwargs)\n",
    "    return wrapper\n",
    "\n",
    "fprint = printOverlap(print)"
   ]
  },
  {
   "cell_type": "code",
   "execution_count": null,
   "metadata": {},
   "outputs": [],
   "source": [
    "class Sword:\n",
    "    price_list = [300, 300, 500, 500, 1000, 1500, 2000, 2000, 3000, 5000, 10900, 20000, 35000, 55000, 100000, 180000, 300000, 500000, 600000, 1500000]\n",
    "    sel_list = [0, 150, 400, 600, 800, 1600, 3500, 6100, 10000, 20000, 35100, 160000, 350000, 1000000, 3000000, 7500000, 14200000, 20000000, 30000000, 68300000]\n",
    "    per_list = [100, 98, 95, 95, 95, 90, 90, 90, 85, 80, 80, 75, 70, 65, 60, 60, 55, 50, 50, 45]\n",
    "    \n",
    "    def __init__(self):\n",
    "        self.now_enchant = 0\n",
    "        self.insert_enchant_value()\n",
    "        \n",
    "    def update_user_enchant(self, user):\n",
    "        if user.max_enchant < self.now_enchant:\n",
    "            user.max_enchant = self.now_enchant\n",
    "            \n",
    "        if user.max_money < user.money:\n",
    "            user.max_money = user.money\n",
    "        \n",
    "    def sel_weapon(self, user):\n",
    "        user.money += self.now_sel\n",
    "        print('\\t\\tSELLLLL!! {} WON PLUS!!!'.format(self.now_sel))\n",
    "        self.update_user_enchant(user)\n",
    "        return False\n",
    "    \n",
    "    def upgrade_weapon(self, user):\n",
    "        # 유저의 돈 체크\n",
    "        if user.money < self.now_price:\n",
    "            print('\\t\\tNO MONEY')\n",
    "            return True\n",
    "        \n",
    "        # 유저돈 삭감\n",
    "        user.money -= self.now_price\n",
    "        \n",
    "        # 강화 성공실패 확인\n",
    "        rand_per = random.randrange(0, 100)\n",
    "        if self.now_per < rand_per:\n",
    "            print('\\t\\tBROKENNNNNNN :(((')\n",
    "            return False\n",
    "        \n",
    "        # 강화 성공시\n",
    "        self.update_user_enchant(user)\n",
    "        self.now_enchant += 1\n",
    "        self.insert_enchant_value()\n",
    "        return True\n",
    "        \n",
    "    def insert_enchant_value(self):\n",
    "        self.now_price = self.price_list[self.now_enchant]\n",
    "        self.now_per = self.per_list[self.now_enchant]\n",
    "        self.now_sel = self.sel_list[self.now_enchant]"
   ]
  },
  {
   "cell_type": "code",
   "execution_count": null,
   "metadata": {},
   "outputs": [],
   "source": [
    "class User:\n",
    "    def __init__(self, name):\n",
    "        self.name = name\n",
    "        self.money = 100000\n",
    "        self.max_enchant = 0\n",
    "        self.max_money = self.money"
   ]
  },
  {
   "cell_type": "code",
   "execution_count": null,
   "metadata": {},
   "outputs": [],
   "source": [
    "def print_menu(sword, user):\n",
    "    logo_str = 'Enchant Sword'\n",
    "    money_str = '{}님의 현재 가진 돈: {}'.format(user.name, user.money)\n",
    "    menu_str = '1. 강화하기\\n2. 판매하기\\n3. 겜끝\\n\\n\\t현재 판매비용: {}'.format(sword.now_sel)\n",
    "    sword_str = '현재 강화 수치: {}\\n강화비용: {}\\n성공률: {}%'.format(sword.now_enchant, sword.now_price, sword.now_per)\n",
    "    \n",
    "    fprint(logo_str)\n",
    "    fprint(money_str)\n",
    "    fprint(menu_str)\n",
    "    fprint(sword_str)"
   ]
  },
  {
   "cell_type": "code",
   "execution_count": null,
   "metadata": {},
   "outputs": [],
   "source": [
    "def sel_menu(sword, user):\n",
    "    menu_item = {1: sword.upgrade_weapon, 2: sword.sel_weapon}\n",
    "    choice = int(input(\"> \"))\n",
    "    if choice == 3:\n",
    "        return 2\n",
    "    return menu_item[choice](user)"
   ]
  },
  {
   "cell_type": "code",
   "execution_count": null,
   "metadata": {},
   "outputs": [],
   "source": [
    "def start_game():\n",
    "    print_rank()\n",
    "    sword = Sword()\n",
    "    user = User(input('너의 이름은? : '))\n",
    "    while True:\n",
    "        if user.money < 300 and sword.now_enchant >= 2:\n",
    "            write_rank(user)\n",
    "            print(\"겜 끝났다.\")\n",
    "            break\n",
    "        print_menu(sword, user)\n",
    "        i_new_weapon = sel_menu(sword, user)\n",
    "        if i_new_weapon == False:\n",
    "            sword = Sword()\n",
    "        elif i_new_weapon == 2:\n",
    "            write_rank(user)\n",
    "            print(\"겜끝!\")\n",
    "            break"
   ]
  },
  {
   "cell_type": "code",
   "execution_count": null,
   "metadata": {},
   "outputs": [],
   "source": [
    "def print_rank():\n",
    "    before_rank = read_rank()\n",
    "    print(\"{:=^40}\".format(\"\"))\n",
    "    print(\"{:=^40}\".format(\" RANKING \"))\n",
    "    for i, item in enumerate(before_rank, start=1):\n",
    "        print(f\"{i}위 {item[0]}님 최고강화: {item[1]}, 최대 돈: {item[2]}\")\n",
    "\n",
    "def read_rank():\n",
    "    before_rank = []\n",
    "    try:\n",
    "        with open('./save_data/record.txt', 'rt') as f:\n",
    "            while True:\n",
    "                line = f.readline()\n",
    "                if not line: break\n",
    "                ranking = line.split(', ')\n",
    "                # Delete \\n\n",
    "                ranking[2] = ranking[2][:-1]\n",
    "                before_rank.append(tuple(ranking))\n",
    "    except FileNotFoundError as e:\n",
    "        pass\n",
    "    finally:\n",
    "        return before_rank\n",
    "    \n",
    "def write_rank(user):\n",
    "    before_rank = read_rank()\n",
    "    my_rank = (user.name, str(user.max_enchant), str(user.max_money))\n",
    "    before_rank.append(my_rank)\n",
    "    after_rank = sorted(before_rank, key=lambda x: int(x[1]), reverse=True)\n",
    "\n",
    "    try:\n",
    "        with open('./save_data/record.txt', 'wt') as f:\n",
    "            for i in after_rank[:5]:\n",
    "                string = \", \".join(i)+\"\\n\"\n",
    "                f.write(string)\n",
    "    except Exception as ex:\n",
    "        print(ex)"
   ]
  }
 ],
 "metadata": {
  "kernelspec": {
   "display_name": "Python 3",
   "language": "python",
   "name": "python3"
  },
  "language_info": {
   "codemirror_mode": {
    "name": "ipython",
    "version": 3
   },
   "file_extension": ".py",
   "mimetype": "text/x-python",
   "name": "python",
   "nbconvert_exporter": "python",
   "pygments_lexer": "ipython3",
   "version": "3.6.6"
  }
 },
 "nbformat": 4,
 "nbformat_minor": 2
}
